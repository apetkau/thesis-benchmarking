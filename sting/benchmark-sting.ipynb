{
 "cells": [
  {
   "cell_type": "markdown",
   "metadata": {},
   "source": [
    "# Dependency code"
   ]
  },
  {
   "cell_type": "code",
   "execution_count": null,
   "metadata": {},
   "outputs": [],
   "source": [
    "import imp\n",
    "import os\n",
    "import sys\n",
    "import numpy as np\n",
    "import glob\n",
    "import cmdbench\n",
    "\n",
    "fp, pathname, description = imp.find_module('benchmark', ['../lib'])\n",
    "benchmark = imp.load_module('benchmark', fp, pathname, description)\n",
    "\n",
    "# Summarize numpy array if it has more than 10 elements\n",
    "np.set_printoptions(threshold=10)"
   ]
  },
  {
   "cell_type": "markdown",
   "metadata": {},
   "source": [
    "# Software versions"
   ]
  },
  {
   "cell_type": "code",
   "execution_count": null,
   "metadata": {},
   "outputs": [],
   "source": [
    "sting_bin_dir = os.path.abspath('../lib/bin/STing')\n",
    "os.environ['PATH'] = f\"{sting_bin_dir}:{os.environ['PATH']}\"\n",
    "\n",
    "indexer_bin = f'{sting_bin_dir}/indexer'\n",
    "typer_bin = f'{sting_bin_dir}/typer'\n",
    "detector_bin = f'{sting_bin_dir}/detector'\n",
    "db_util_bin = f'{sting_bin_dir}/db_util.py'\n",
    "!{indexer_bin} --version\n",
    "!{typer_bin} --version\n",
    "!{detector_bin} --version\n",
    "!{db_util_bin} --version"
   ]
  },
  {
   "cell_type": "markdown",
   "metadata": {},
   "source": [
    "# Benchmark\n",
    "\n",
    "## Input data and constants"
   ]
  },
  {
   "cell_type": "code",
   "execution_count": null,
   "metadata": {},
   "outputs": [],
   "source": [
    "input_dir = '../data/input-files/reads'\n",
    "input_files_1 = [os.path.basename(f) for f in glob.glob(f'{input_dir}/*_1.fastq.gz')]\n",
    "input_samples = [f.replace('_1.fastq.gz','') for f in input_files_1]\n",
    "input_samples.sort()\n",
    "print(input_samples)\n",
    "\n",
    "sample_sizes = [1,10,20,30,40,50,60,70,80]\n",
    "\n",
    "nproc = 32\n",
    "\n",
    "sting_output = 'sting-output'\n",
    "sting_db = 'sting-db'\n",
    "scheme_name = 'Campylobacter jejuni'\n",
    "scheme_db = f'{sting_db}/{scheme_name.lower().replace(\" \", \"_\")}'\n",
    "print(scheme_db)\n",
    "\n",
    "benchmark.create_folder_if_doesnt_exist(sting_output)\n",
    "benchmark.create_folder_if_doesnt_exist(sting_db)\n",
    "benchmark.clean_if_exists(sting_db)\n",
    "benchmark.clean_if_exists(sting_output)"
   ]
  },
  {
   "cell_type": "markdown",
   "metadata": {},
   "source": [
    "## Build STing MLST database"
   ]
  },
  {
   "cell_type": "code",
   "execution_count": null,
   "metadata": {},
   "outputs": [],
   "source": [
    "!{db_util_bin} fetch --query \"Campylobacter jejuni\" --out_dir {sting_db} --build_index"
   ]
  },
  {
   "cell_type": "markdown",
   "metadata": {},
   "source": [
    "## Benchmark functions"
   ]
  },
  {
   "cell_type": "code",
   "execution_count": null,
   "metadata": {},
   "outputs": [],
   "source": [
    "def reset_func():\n",
    "    benchmark.clean_if_exists(sting_output)\n",
    "\n",
    "def sampling_func(sample_size):\n",
    "    samples = input_samples[:sample_size]\n",
    "    return samples\n",
    "\n",
    "typer_command = {\n",
    "    \"command\": f\"typer -x {scheme_db}/db/index -1 {input_dir}/%_1.fastq.gz -2 {input_dir}/%_2.fastq.gz\",\n",
    "    \"parallel_args\": f\"-j {nproc} -I%\"\n",
    "}"
   ]
  },
  {
   "cell_type": "markdown",
   "metadata": {},
   "source": [
    "## Benchmark"
   ]
  },
  {
   "cell_type": "code",
   "execution_count": null,
   "metadata": {
    "scrolled": true
   },
   "outputs": [],
   "source": [
    "multibench_results, debug_str = benchmark.multibench.multi_cmdbench({\n",
    "        \"type\": [typer_command]\n",
    "    },\n",
    "    reset_func = reset_func, iterations = 1, sampling_func = sampling_func, sample_sizes = sample_sizes, \n",
    "    benchmark_list_to_results = benchmark.benchmark_list_to_results, active_output_print = True\n",
    ")"
   ]
  },
  {
   "cell_type": "markdown",
   "metadata": {},
   "source": [
    "# Save and reload results"
   ]
  },
  {
   "cell_type": "code",
   "execution_count": null,
   "metadata": {},
   "outputs": [],
   "source": [
    "save_path = \"string-results.txt\"\n",
    "\n",
    "samples_per_sample_size = []\n",
    "for sample_size in sample_sizes:\n",
    "        samples_per_sample_size.append(input_samples[:sample_size])\n",
    "\n",
    "benchmark.multibench.save_multibench_results(multibench_results, samples_per_sample_size, save_path)\n",
    "\n",
    "multibench_results, samples_per_sample_size = benchmark.multibench.read_multibench_results(save_path)\n",
    "print(samples_per_sample_size)"
   ]
  },
  {
   "cell_type": "markdown",
   "metadata": {},
   "source": [
    "# Plot"
   ]
  },
  {
   "cell_type": "code",
   "execution_count": null,
   "metadata": {},
   "outputs": [],
   "source": [
    "%matplotlib inline\n",
    "import matplotlib.pyplot as plt\n",
    "plt.style.use('seaborn-whitegrid')\n",
    "import numpy as np\n",
    "from pylab import rcParams\n",
    "rcParams['figure.figsize'] = 15, 3"
   ]
  },
  {
   "cell_type": "code",
   "execution_count": null,
   "metadata": {},
   "outputs": [],
   "source": [
    "# Typer command Plots\n",
    "benchmark.multibench.plot_resources(multibench_results, sample_sizes, \"type\")"
   ]
  },
  {
   "cell_type": "code",
   "execution_count": null,
   "metadata": {},
   "outputs": [],
   "source": []
  }
 ],
 "metadata": {
  "kernelspec": {
   "display_name": "Python 3",
   "language": "python",
   "name": "python3"
  },
  "language_info": {
   "codemirror_mode": {
    "name": "ipython",
    "version": 3
   },
   "file_extension": ".py",
   "mimetype": "text/x-python",
   "name": "python",
   "nbconvert_exporter": "python",
   "pygments_lexer": "ipython3",
   "version": "3.8.5"
  }
 },
 "nbformat": 4,
 "nbformat_minor": 4
}
