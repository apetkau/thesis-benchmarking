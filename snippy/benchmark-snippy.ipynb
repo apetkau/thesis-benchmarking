{
 "cells": [
  {
   "cell_type": "markdown",
   "metadata": {},
   "source": [
    "# Dependency code"
   ]
  },
  {
   "cell_type": "code",
   "execution_count": null,
   "metadata": {},
   "outputs": [],
   "source": [
    "import imp\n",
    "import os\n",
    "import sys\n",
    "import numpy as np\n",
    "import glob\n",
    "import cmdbench\n",
    "\n",
    "fp, pathname, description = imp.find_module('benchmark', ['../lib'])\n",
    "benchmark = imp.load_module('benchmark', fp, pathname, description)\n",
    "\n",
    "# Summarize numpy array if it has more than 10 elements\n",
    "np.set_printoptions(threshold=10)"
   ]
  },
  {
   "cell_type": "markdown",
   "metadata": {},
   "source": [
    "# Software versions"
   ]
  },
  {
   "cell_type": "code",
   "execution_count": null,
   "metadata": {},
   "outputs": [],
   "source": [
    "!conda run --name snippy snippy --version"
   ]
  },
  {
   "cell_type": "markdown",
   "metadata": {},
   "source": [
    "# Benchmarking\n",
    "\n",
    "## Input data and constants"
   ]
  },
  {
   "cell_type": "code",
   "execution_count": null,
   "metadata": {},
   "outputs": [],
   "source": [
    "input_dir = '../data/input-files/reads'\n",
    "input_files_1 = [os.path.basename(f) for f in glob.glob(f'{input_dir}/*_1.fastq.gz')]\n",
    "input_samples = [f.replace('_1.fastq.gz','') for f in input_files_1]\n",
    "input_samples.sort()\n",
    "print(input_samples)\n",
    "\n",
    "snippy_out = 'snippy-output'\n",
    "nproc = 32\n",
    "\n",
    "reference_genome = \"../data/input-files/2011C-3609.fasta\"\n",
    "\n",
    "sample_sizes = [1,10,20,30,40,50,60,70,80]\n",
    "#sample_sizes = [3]\n",
    "\n",
    "benchmark.create_folder_if_doesnt_exist(snippy_out)\n",
    "benchmark.clean_if_exists(snippy_out)"
   ]
  },
  {
   "cell_type": "markdown",
   "metadata": {},
   "source": [
    "## Benchmark functions"
   ]
  },
  {
   "cell_type": "code",
   "execution_count": null,
   "metadata": {},
   "outputs": [],
   "source": [
    "def reset_func():\n",
    "    benchmark.clean_if_exists(snippy_out)\n",
    "    \n",
    "def sampling_func(sample_size):\n",
    "    samples = input_samples[:sample_size]\n",
    "    \n",
    "    samples_tab_file_lines = []\n",
    "    \n",
    "    input_dir_abs = os.path.abspath(input_dir)\n",
    "    reference_genome_abs = os.path.abspath(reference_genome)\n",
    "\n",
    "    for sample in samples:\n",
    "        samples_tab_file_line = f\"{sample}\\t{input_dir_abs}/{sample}_1.fastq.gz\\t{input_dir_abs}/{sample}_2.fastq.gz\"\n",
    "        samples_tab_file_lines.append(samples_tab_file_line)\n",
    "        \n",
    "    samples_tab_file_content = \"\\n\".join(samples_tab_file_lines)\n",
    "        \n",
    "    file = open(f\"{snippy_out}/samples.tab\", \"w\") \n",
    "    file.write(samples_tab_file_content + \"\\n\")\n",
    "    file.close()\n",
    "    \n",
    "    os.system(f\"conda run --name snippy snippy-multi {snippy_out}/samples.tab --ref {reference_genome_abs} --cpus 1 > {snippy_out}/snippy-commands.sh\")\n",
    "    \n",
    "    # Split commands so I can run alignments in parallel\n",
    "    os.system(f'grep -v \"snippy-core\" {snippy_out}/snippy-commands.sh > {snippy_out}/snippy-align-commands.sh')\n",
    "    os.system(f'grep \"snippy-core\" {snippy_out}/snippy-commands.sh > {snippy_out}/snippy-core-commands.sh')\n",
    "    \n",
    "    return samples"
   ]
  },
  {
   "cell_type": "markdown",
   "metadata": {},
   "source": [
    "## Benchmark"
   ]
  },
  {
   "cell_type": "code",
   "execution_count": null,
   "metadata": {
    "scrolled": true
   },
   "outputs": [],
   "source": [
    "snippy_align_command = {\n",
    "    \"use_parallel\": False,\n",
    "    \"command\": f\"conda run --name snippy cd {snippy_out}; parallel -j {nproc} -a snippy-align-commands.sh\"\n",
    "}\n",
    "\n",
    "snippy_core_command = {\n",
    "    \"use_parallel\": False,\n",
    "    \"command\": f\"conda run --name snippy cd {snippy_out}; bash snippy-core-commands.sh\"\n",
    "}\n",
    "\n",
    "multibench_results, debug_str = benchmark.multibench.multi_cmdbench({\n",
    "        \"build_tree\": [snippy_align_command, snippy_core_command]\n",
    "    },\n",
    "    reset_func = reset_func, iterations = 1, sampling_func = sampling_func, sample_sizes = sample_sizes, \n",
    "    benchmark_list_to_results = benchmark.benchmark_list_to_results, active_output_print = False\n",
    ")\n",
    "\n",
    "print('Done')"
   ]
  },
  {
   "cell_type": "markdown",
   "metadata": {},
   "source": [
    "# Save and reload results"
   ]
  },
  {
   "cell_type": "code",
   "execution_count": null,
   "metadata": {},
   "outputs": [],
   "source": [
    "save_path = \"snippy_results.txt\"\n",
    "\n",
    "samples_per_sample_size = []\n",
    "for sample_size in sample_sizes:\n",
    "        samples_per_sample_size.append(input_samples[:sample_size])\n",
    "\n",
    "benchmark.multibench.save_multibench_results(multibench_results, samples_per_sample_size, save_path)\n",
    "\n",
    "multibench_results, samples_per_sample_size = benchmark.multibench.read_multibench_results(save_path)\n",
    "print(samples_per_sample_size)"
   ]
  },
  {
   "cell_type": "markdown",
   "metadata": {},
   "source": [
    "# Plot"
   ]
  },
  {
   "cell_type": "code",
   "execution_count": null,
   "metadata": {},
   "outputs": [],
   "source": [
    "%matplotlib inline\n",
    "import matplotlib.pyplot as plt\n",
    "plt.style.use('seaborn-whitegrid')\n",
    "import numpy as np\n",
    "from pylab import rcParams\n",
    "rcParams['figure.figsize'] = 15, 3"
   ]
  },
  {
   "cell_type": "code",
   "execution_count": null,
   "metadata": {},
   "outputs": [],
   "source": [
    "# Typer command Plots\n",
    "benchmark.multibench.plot_resources(multibench_results, sample_sizes, \"build_tree\")"
   ]
  }
 ],
 "metadata": {
  "kernelspec": {
   "display_name": "Python 3",
   "language": "python",
   "name": "python3"
  },
  "language_info": {
   "codemirror_mode": {
    "name": "ipython",
    "version": 3
   },
   "file_extension": ".py",
   "mimetype": "text/x-python",
   "name": "python",
   "nbconvert_exporter": "python",
   "pygments_lexer": "ipython3",
   "version": "3.8.5"
  }
 },
 "nbformat": 4,
 "nbformat_minor": 4
}
