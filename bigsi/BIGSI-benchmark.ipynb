{
 "cells": [
  {
   "cell_type": "markdown",
   "metadata": {},
   "source": [
    "# Depdency code"
   ]
  },
  {
   "cell_type": "code",
   "execution_count": null,
   "metadata": {},
   "outputs": [],
   "source": [
    "%run ../lib/cmdbench/bioinformatics/multibench.py"
   ]
  },
  {
   "cell_type": "code",
   "execution_count": null,
   "metadata": {},
   "outputs": [],
   "source": [
    "import os\n",
    "\n",
    "os.environ['BIGSI_CONFIG'] = 'berkleydb.yaml'"
   ]
  },
  {
   "cell_type": "markdown",
   "metadata": {},
   "source": [
    "# Software versions"
   ]
  },
  {
   "cell_type": "code",
   "execution_count": null,
   "metadata": {},
   "outputs": [],
   "source": [
    "!mccortex 31 2>&1 | grep version"
   ]
  },
  {
   "cell_type": "code",
   "execution_count": null,
   "metadata": {},
   "outputs": [],
   "source": [
    "!bigsi --version | grep bigsi-v"
   ]
  },
  {
   "cell_type": "markdown",
   "metadata": {},
   "source": [
    "# Benchmarking"
   ]
  },
  {
   "cell_type": "code",
   "execution_count": null,
   "metadata": {},
   "outputs": [],
   "source": [
    "import sys\n",
    "import os\n",
    "import shutil\n",
    "import numpy as np\n",
    "import glob\n",
    "import cmdbench\n",
    "\n",
    "def clean_if_exists(path):\n",
    "    if os.path.exists(path):\n",
    "        if(os.path.isfile(path)):\n",
    "            os.remove(path)\n",
    "        else:\n",
    "            shutil.rmtree(path)\n",
    "            os.mkdir(path)\n",
    "            \n",
    "def get_last_n_lines(string, n):\n",
    "    return \"\\n\".join(string.split(\"\\n\")[-n:])\n",
    "    \n",
    "def benchmark_list_to_results(benchmark_firsts_list):\n",
    "    return {\n",
    "        \"memory\": max(list(map(lambda result: result.memory.max, benchmark_firsts_list))),\n",
    "        \"disk_read\": max(list(map(lambda result: result.disk.read_chars, benchmark_firsts_list))),\n",
    "        \"disk_write\": max(list(map(lambda result: result.disk.write_chars, benchmark_firsts_list))),\n",
    "        \"runtime\": sum(list(map(lambda result: result.process.execution_time, benchmark_firsts_list)))\n",
    "    }\n",
    "\n",
    "def sampling_func(input_size):\n",
    "    return input_samples[:input_size]\n",
    "\n",
    "# Summarize numpy array if it has more than 10 elements\n",
    "np.set_printoptions(threshold=10)\n",
    "\n",
    "input_dir = 'input'\n",
    "\n",
    "input_files_1 = [os.path.basename(f) for f in glob.glob(f'{input_dir}/*_1.fastq.gz')]\n",
    "input_samples = [f.replace('_1.fastq.gz','') for f in input_files_1]\n",
    "print(input_samples)"
   ]
  },
  {
   "cell_type": "code",
   "execution_count": null,
   "metadata": {
    "scrolled": true
   },
   "outputs": [],
   "source": [
    "nproc=4\n",
    "kmer=31\n",
    "\n",
    "bigsi_dir = 'bigsi-data'\n",
    "#sample_sizes = [1,20,60,100,140]\n",
    "sample_sizes = [1,2,3,4,5,6,7,8,9,10,11,12,13,14,15]\n",
    "\n",
    "def reset_func():\n",
    "    # Delete indexed data\n",
    "    os.system(\"bigsi delete\")\n",
    "\n",
    "    # Delete all saved bigsi data\n",
    "    clean_if_exists(bigsi_dir)\n",
    "    clean_if_exists(\"test-berkeley.db\")\n",
    "\n",
    "mccortex_command = {\n",
    "    \"command\": f\"mccortex 31 build --nkmers 100000000 --threads 1 --kmer {kmer} --mem 20G\" \\\n",
    "        + f\" --sample % --seq2 {input_dir}/%_1.fastq.gz:{input_dir}/%_2.fastq.gz {bigsi_dir}/%.ctx\",\n",
    "    \"parallel_args\": f\"-j {nproc} -I%\"\n",
    "}\n",
    "\n",
    "bigsi_bloom_command = {\n",
    "    \"command\": f\"bigsi bloom -c berkleydb.yaml {bigsi_dir}/%.ctx {bigsi_dir}/%.bloom\",\n",
    "    \"parallel_args\": f\"-j {nproc} -I%\"\n",
    "}\n",
    "\n",
    "bigsi_build_command = {\n",
    "    \"command\": lambda sample_files: \"bigsi build -c berkleydb.yaml\" + \" -s \" + (\" -s \").join(sample_files) \\\n",
    "        + \" \" + \" \".join(list(map(lambda sample_file: f\"{bigsi_dir}/%s.bloom\" % sample_file, sample_files))),\n",
    "}\n",
    "\n",
    "query_repeat_count = 2\n",
    "query_sequence = \"GAAGAAGATGGTGTACGCGGTGCGCGCCGCTATCTCGACCACCTTAAAATGGAATATGCCTTCTGGATGGACG\"\n",
    "\n",
    "query_command = {\n",
    "    \"command\": \"bigsi search % --config berkleydb.yaml -t 0.8\",\n",
    "    \"parallel_argfiles\": [query_sequence] * query_repeat_count,\n",
    "    \"parallel_args\": \"-j 1 -I%\"\n",
    "}\n",
    "\n",
    "multibench_results, debug_str = multi_cmdbench({\n",
    "\"index\": [mccortex_command, bigsi_bloom_command, bigsi_build_command],\n",
    "\"query\": [query_command]\n",
    "}, reset_func = reset_func, iterations = 1, sampling_func = sampling_func, sample_sizes = sample_sizes, \n",
    "    benchmark_list_to_results=benchmark_list_to_results)"
   ]
  },
  {
   "cell_type": "code",
   "execution_count": null,
   "metadata": {},
   "outputs": [],
   "source": [
    "print(debug_str)"
   ]
  },
  {
   "cell_type": "markdown",
   "metadata": {},
   "source": [
    "# Plot"
   ]
  },
  {
   "cell_type": "code",
   "execution_count": null,
   "metadata": {},
   "outputs": [],
   "source": [
    "%matplotlib inline\n",
    "import matplotlib.pyplot as plt\n",
    "plt.style.use('seaborn-whitegrid')\n",
    "import numpy as np\n",
    "from pylab import rcParams\n",
    "rcParams['figure.figsize'] = 25, 5"
   ]
  },
  {
   "cell_type": "code",
   "execution_count": null,
   "metadata": {},
   "outputs": [],
   "source": [
    "# Indexing Plots\n",
    "plot_resources(multibench_results, sample_sizes, \"index\")"
   ]
  },
  {
   "cell_type": "code",
   "execution_count": null,
   "metadata": {},
   "outputs": [],
   "source": [
    "# Querying Plots\n",
    "plot_resources(multibench_results, sample_sizes, \"query\")"
   ]
  }
 ],
 "metadata": {
  "kernelspec": {
   "display_name": "Python 3",
   "language": "python",
   "name": "python3"
  },
  "language_info": {
   "codemirror_mode": {
    "name": "ipython",
    "version": 3
   },
   "file_extension": ".py",
   "mimetype": "text/x-python",
   "name": "python",
   "nbconvert_exporter": "python",
   "pygments_lexer": "ipython3",
   "version": "3.6.10"
  }
 },
 "nbformat": 4,
 "nbformat_minor": 4
}
