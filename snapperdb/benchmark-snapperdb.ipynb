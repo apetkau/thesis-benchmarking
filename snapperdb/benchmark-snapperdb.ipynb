{
 "cells": [
  {
   "cell_type": "markdown",
   "metadata": {},
   "source": [
    "# Dependency code"
   ]
  },
  {
   "cell_type": "code",
   "execution_count": null,
   "metadata": {},
   "outputs": [],
   "source": [
    "import imp\n",
    "import os\n",
    "import sys\n",
    "import numpy as np\n",
    "import glob\n",
    "import cmdbench\n",
    "import subprocess\n",
    "\n",
    "fp, pathname, description = imp.find_module('benchmark', ['../lib'])\n",
    "benchmark = imp.load_module('benchmark', fp, pathname, description)\n",
    "\n",
    "os.environ['GASTROSNAPPER_CONFPATH'] = os.getcwd() + '/snapper_config'\n",
    "os.environ['GASTROSNAPPER_REFPATH'] = os.getcwd() + '/reference_genomes'\n",
    "\n",
    "# Summarize numpy array if it has more than 10 elements\n",
    "np.set_printoptions(threshold=10)\n",
    "\n",
    "# Set PICARD_JAR environment variable\n",
    "picard_path = subprocess.run(['conda', 'run', '--name', 'snapperdb', 'which', 'picard'],\n",
    "                             capture_output=True).stdout.strip().decode('utf-8')\n",
    "picard_bin_dir = os.path.dirname(picard_path)\n",
    "picard_link = os.readlink(picard_path)\n",
    "picard_true_path = os.path.abspath(picard_bin_dir + '/' + picard_link)\n",
    "picard_jar = os.path.dirname(picard_true_path) + '/picard.jar'\n",
    "\n",
    "# snapperdb needs 'PICARD_JAR' environment variable set\n",
    "print(picard_jar)\n",
    "os.environ['PICARD_JAR'] = picard_jar\n",
    "\n",
    "# Set GATK_JAR environment variable\n",
    "gatk_path = subprocess.run(['conda', 'run', '--name', 'snapperdb', 'which', 'gatk3'],\n",
    "                          capture_output=True).stdout.strip().decode('utf-8')\n",
    "gatk_bin_dir = os.path.dirname(gatk_path)\n",
    "gatk_link = os.readlink(gatk_path)\n",
    "gatk_true_path = os.path.abspath(gatk_bin_dir + '/' + gatk_link)\n",
    "gatk_jar = os.path.dirname(gatk_true_path) + '/GenomeAnalysisTK.jar'\n",
    "\n",
    "# snapperdb needs 'GATK_JAR' environment variable set\n",
    "print(gatk_jar)\n",
    "os.environ['GATK_JAR'] = gatk_jar"
   ]
  },
  {
   "cell_type": "markdown",
   "metadata": {},
   "source": [
    "# Software versions"
   ]
  },
  {
   "cell_type": "code",
   "execution_count": null,
   "metadata": {},
   "outputs": [],
   "source": [
    "!conda run --name snapperdb samtools --version\n",
    "!conda run --name snapperdb bcftools --version"
   ]
  },
  {
   "cell_type": "code",
   "execution_count": null,
   "metadata": {},
   "outputs": [],
   "source": [
    "!conda run --name snapperdb bwa 2>&1 | grep Version"
   ]
  },
  {
   "cell_type": "code",
   "execution_count": null,
   "metadata": {},
   "outputs": [],
   "source": [
    "!conda run --name snapperdb bowtie2 --version"
   ]
  },
  {
   "cell_type": "code",
   "execution_count": null,
   "metadata": {},
   "outputs": [],
   "source": [
    "!conda run --name snapperdb gatk3 --version"
   ]
  },
  {
   "cell_type": "code",
   "execution_count": null,
   "metadata": {},
   "outputs": [],
   "source": [
    "!conda run --name snapperdb picard CheckIlluminaDirectory --version 2>&1 | grep Version"
   ]
  },
  {
   "cell_type": "markdown",
   "metadata": {},
   "source": [
    "# Benchmark\n",
    "\n",
    "## Input data and constants"
   ]
  },
  {
   "cell_type": "code",
   "execution_count": null,
   "metadata": {},
   "outputs": [],
   "source": [
    "input_dir = '../data/input-files/reads'\n",
    "input_files_1 = [os.path.basename(f) for f in glob.glob(f'{input_dir}/*_1.fastq.gz')]\n",
    "input_samples = [f.replace('_1.fastq.gz','') for f in input_files_1]\n",
    "input_samples.sort()\n",
    "print(input_samples)\n",
    "\n",
    "sample_sizes = [1,10,20,30,40,50,60,70,80]\n",
    "#sample_sizes = [3]\n",
    "\n",
    "nprocs = 4\n",
    "output_dir = 'output'\n",
    "snapper_config = 'snapper_config'\n",
    "reference_dir = 'reference_genomes'\n",
    "config_file = f'{snapper_config}/config.txt'\n",
    "\n",
    "reference_genome_name = '2011C-3609'\n",
    "\n",
    "db_name = 'ecoli_snapperdb'\n",
    "db_user = 'snapperdb'\n",
    "db_pass = 'snapperdb'\n",
    "db_host = 'localhost'\n",
    "\n",
    "benchmark.create_folder_if_doesnt_exist(output_dir)\n",
    "benchmark.create_folder_if_doesnt_exist(snapper_config)"
   ]
  },
  {
   "cell_type": "markdown",
   "metadata": {},
   "source": [
    "## Setup database\n",
    "\n",
    "### Postgres database\n",
    "\n",
    "Create user with proper permissions\n",
    "\n",
    "```\n",
    "sudo su -l postgres\n",
    "psql\n",
    "create user snapperdb password 'snapperdb';\n",
    "alter user snapperdb with superuser;\n",
    "create database ecoli_snapperdb;\n",
    "create database snapperdb; # Need snapperdb database to connect later\n",
    "grant all on database ecoli_snapperdb to snapperdb;\n",
    "```\n",
    "\n",
    "Note, when logging into the database to test out, make sure to specify the hostname so it uses password authentication.\n",
    "\n",
    "```\n",
    "psql ecoli_snapperdb snapperdb --host localhost\n",
    "```"
   ]
  },
  {
   "cell_type": "markdown",
   "metadata": {},
   "source": [
    "### Create config file"
   ]
  },
  {
   "cell_type": "code",
   "execution_count": null,
   "metadata": {},
   "outputs": [],
   "source": [
    "import textwrap\n",
    "\n",
    "with open(config_file, 'w') as f:\n",
    "    f.write(textwrap.dedent(f\"\"\"\n",
    "    snpdb_name {db_name}\n",
    "    reference_genome {reference_genome_name}\n",
    "    pg_uname {db_user}\n",
    "    pg_pword {db_pass}\n",
    "    pg_host {db_host}\n",
    "    depth_cutoff 10\n",
    "    mq_cutoff 30\n",
    "    ad_cutoff 0.9\n",
    "    average_depth_cutoff 30\n",
    "    mapper bwa\n",
    "    mapper_threads 8\n",
    "    variant_caller gatk\n",
    "    variant_caller_threads 8\n",
    "    \"\"\").strip() + '\\n')"
   ]
  },
  {
   "cell_type": "markdown",
   "metadata": {},
   "source": [
    "## Benchmark functions"
   ]
  },
  {
   "cell_type": "code",
   "execution_count": null,
   "metadata": {},
   "outputs": [],
   "source": [
    "import psycopg2, glob, os\n",
    "from psycopg2.extensions import ISOLATION_LEVEL_AUTOCOMMIT\n",
    "\n",
    "def reset_func():\n",
    "    # Remove processed files for the reference genome\n",
    "    for file in glob.glob(f\"reference_genomes/{reference_genome_name}.*\"):\n",
    "        if(file.split(\".\")[-1] != \"fa\"):\n",
    "            os.remove(file)\n",
    "    \n",
    "    # https://github.com/phe-bioinformatics/snapperdb#deleting-or-purging-your-database\n",
    "    \n",
    "    # Connect to the database, drop the whole database made by snapperdb and close the connection\n",
    "    \n",
    "    psql_conn = psycopg2.connect(f\"user={db_user} host={db_host} password={db_pass}\")\n",
    "    psql_conn.set_isolation_level(ISOLATION_LEVEL_AUTOCOMMIT)\n",
    "    \n",
    "    psql_cursor = psql_conn.cursor()\n",
    "    \n",
    "    psql_cursor.execute(f\"DROP DATABASE IF EXISTS {db_name};\")\n",
    "    \n",
    "    psql_cursor.close()\n",
    "    psql_conn.close()\n",
    "    \n",
    "def sampling_func(input_size):\n",
    "    return input_samples[:input_size]\n",
    "\n",
    "# Index\n",
    "\n",
    "make_snpdb_command = {\n",
    "    \"use_parallel\": False,\n",
    "    \"command\": \"conda run --name snapperdb run_snapperdb.py make_snpdb -c config.txt\"\n",
    "}\n",
    "\n",
    "fastq_to_db_command = {\n",
    "    \"command\": f'conda run --name snapperdb run_snapperdb.py fastq_to_db -c config.txt \"{input_dir}/%_1.fastq.gz\" \"{input_dir}/%_2.fastq.gz\"',\n",
    "    \"parallel_args\": f\"-j {nprocs} -I%\"\n",
    "}\n",
    "\n",
    "update_distance_matrix_command = {\n",
    "    \"use_parallel\": False,\n",
    "    \"command\": \"conda run --name snapperdb run_snapperdb.py update_distance_matrix -c config.txt\"\n",
    "}\n",
    "\n",
    "update_clusters_command = {\n",
    "    \"use_parallel\": False,\n",
    "    \"command\": \"conda run --name snapperdb run_snapperdb.py update_clusters -c config.txt\"\n",
    "}\n",
    "\n",
    "# Query\n",
    "\n",
    "get_strains_command = {\n",
    "    \"use_parallel\": False,\n",
    "    \"command\": \"conda run --name snapperdb run_snapperdb.py get_strains -c config.txt\"\n",
    "}"
   ]
  },
  {
   "cell_type": "markdown",
   "metadata": {},
   "source": [
    "# Benchmark"
   ]
  },
  {
   "cell_type": "code",
   "execution_count": null,
   "metadata": {
    "scrolled": true
   },
   "outputs": [],
   "source": [
    "multibench_results, debug_str = benchmark.multibench.multi_cmdbench({\n",
    "        \"index\": [make_snpdb_command, fastq_to_db_command, update_distance_matrix_command, update_clusters_command],\n",
    "        \"query\": [get_strains_command]\n",
    "    }, reset_func = reset_func, iterations = 1, sampling_func = sampling_func, sample_sizes = sample_sizes, \n",
    "    benchmark_list_to_results=benchmark.benchmark_list_to_results, active_output_print = True\n",
    ")"
   ]
  },
  {
   "cell_type": "markdown",
   "metadata": {},
   "source": [
    "# Save and reload results"
   ]
  },
  {
   "cell_type": "code",
   "execution_count": null,
   "metadata": {},
   "outputs": [],
   "source": [
    "save_path = \"snapperdb-results.txt\"\n",
    "\n",
    "samples_per_sample_size = []\n",
    "for sample_size in sample_sizes:\n",
    "        samples_per_sample_size.append(input_samples[:sample_size])\n",
    "\n",
    "benchmark.multibench.save_multibench_results(multibench_results, samples_per_sample_size, save_path)\n",
    "multibench_results, samples_per_sample_size = benchmark.multibench.read_multibench_results(save_path)\n",
    "print(samples_per_sample_size)"
   ]
  },
  {
   "cell_type": "markdown",
   "metadata": {},
   "source": [
    "# Plot"
   ]
  },
  {
   "cell_type": "code",
   "execution_count": null,
   "metadata": {},
   "outputs": [],
   "source": [
    "%matplotlib inline\n",
    "import matplotlib.pyplot as plt\n",
    "plt.style.use('seaborn-whitegrid')\n",
    "import numpy as np\n",
    "from pylab import rcParams\n",
    "rcParams['figure.figsize'] = 15, 3"
   ]
  },
  {
   "cell_type": "code",
   "execution_count": null,
   "metadata": {},
   "outputs": [],
   "source": [
    "# Indexing Plots\n",
    "benchmark.multibench.plot_resources(multibench_results, sample_sizes, \"index\")"
   ]
  },
  {
   "cell_type": "code",
   "execution_count": null,
   "metadata": {},
   "outputs": [],
   "source": [
    "# Querying Plots\n",
    "benchmark.multibench.plot_resources(multibench_results, sample_sizes, \"query\")"
   ]
  },
  {
   "cell_type": "code",
   "execution_count": null,
   "metadata": {},
   "outputs": [],
   "source": []
  }
 ],
 "metadata": {
  "kernelspec": {
   "display_name": "Python 3",
   "language": "python",
   "name": "python3"
  },
  "language_info": {
   "codemirror_mode": {
    "name": "ipython",
    "version": 3
   },
   "file_extension": ".py",
   "mimetype": "text/x-python",
   "name": "python",
   "nbconvert_exporter": "python",
   "pygments_lexer": "ipython3",
   "version": "3.8.5"
  }
 },
 "nbformat": 4,
 "nbformat_minor": 4
}
