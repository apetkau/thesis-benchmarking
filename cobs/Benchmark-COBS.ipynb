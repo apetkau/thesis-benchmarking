{
 "cells": [
  {
   "cell_type": "markdown",
   "metadata": {},
   "source": [
    "# Dependency code"
   ]
  },
  {
   "cell_type": "code",
   "execution_count": null,
   "metadata": {},
   "outputs": [],
   "source": [
    "import imp\n",
    "import os\n",
    "import sys\n",
    "import numpy as np\n",
    "import glob\n",
    "import cmdbench\n",
    "\n",
    "fp, pathname, description = imp.find_module('benchmark', ['../lib'])\n",
    "benchmark = imp.load_module('benchmark', fp, pathname, description)\n",
    "\n",
    "# Summarize numpy array if it has more than 10 elements\n",
    "np.set_printoptions(threshold=10)"
   ]
  },
  {
   "cell_type": "markdown",
   "metadata": {},
   "source": [
    "# Software versions\n",
    "\n",
    "COBS will have to be built directly from source <https://github.com/bingmann/cobs>. Version used is commit `1915fc061bbe47946116b4a051ed7b4e3f3eca15`. I have included the binary in the directory `../lib/bin`."
   ]
  },
  {
   "cell_type": "code",
   "execution_count": null,
   "metadata": {},
   "outputs": [],
   "source": [
    "cobs_bin = '../lib/bin/cobs'\n",
    "!ls ../lib/bin\n",
    "!{cobs_bin}"
   ]
  },
  {
   "cell_type": "markdown",
   "metadata": {},
   "source": [
    "# Benchmarking\n",
    "\n",
    "## Input data and constants"
   ]
  },
  {
   "cell_type": "code",
   "execution_count": null,
   "metadata": {},
   "outputs": [],
   "source": [
    "input_dir = '../data/input-files/reads'\n",
    "\n",
    "input_files_1 = [os.path.basename(f) for f in glob.glob(f'{input_dir}/*_1.fastq.gz')]\n",
    "input_samples = [f.replace('_1.fastq.gz','') for f in input_files_1]\n",
    "input_samples.sort()\n",
    "print(input_samples)\n",
    "\n",
    "nproc=32\n",
    "kmer=31\n",
    "hashes=3\n",
    "\n",
    "sample_sizes = [1,10,20,30,40,50,60,70,80]\n",
    "\n",
    "benchmark.create_folder_if_doesnt_exist(\"cobs-data\")\n",
    "benchmark.create_folder_if_doesnt_exist(\"cobs-data/samples\")"
   ]
  },
  {
   "cell_type": "markdown",
   "metadata": {},
   "source": [
    "## Benchmark functions"
   ]
  },
  {
   "cell_type": "code",
   "execution_count": null,
   "metadata": {
    "scrolled": true
   },
   "outputs": [],
   "source": [
    "def sampling_func(sample_size):\n",
    "    # Copy files we want to be part of the sample\n",
    "    # from inputs to cobs-data/samples/ and return their path\n",
    "    samples = input_samples[:sample_size]\n",
    "    samples_out = []\n",
    "    for sample in samples:\n",
    "        infile1, infile2 = os.path.abspath(f\"{input_dir}/{sample}_1.fastq.gz\"), os.path.abspath(f\"{input_dir}/{sample}_2.fastq.gz\")\n",
    "        outfile1, outfile2 = f\"cobs-data/samples/{sample}_1.fastq.gz\", f\"cobs-data/samples/{sample}_2.fastq.gz\"\n",
    "        os.symlink(infile1, outfile1)\n",
    "        os.symlink(infile2, outfile2)\n",
    "    return [\"cobs-data/samples/\"]\n",
    "\n",
    "def reset_func():\n",
    "    benchmark.clean_if_exists(\"cobs-data/samples/\")\n",
    "    benchmark.clean_if_exists(\"cobs-data/example.cobs_compact\")\n",
    "    benchmark.clean_if_exists(\"cobs-data/example.cobs_compact.tmp\")\n",
    "\n",
    "build_command = {\n",
    "    \"command\": f\"{cobs_bin} compact-construct -k {kmer} --threads {nproc} --num-hashes {hashes} cobs-data/samples/ cobs-data/example.cobs_compact\",\n",
    "}\n",
    "\n",
    "query_repeat_count = 2\n",
    "query_sequence = \"GAAGAAGATGGTGTACGCGGTGCGCGCCGCTATCTCGACCACCTTAAAATGGAATATGCCTTCTGGATGGACG\"\n",
    "\n",
    "query_command = {\n",
    "    \"command\": f\"{cobs_bin} query -i cobs-data/example.cobs_compact %\",\n",
    "    \"parallel_argfiles\": [query_sequence] * query_repeat_count,\n",
    "    \"parallel_args\": f\"-j {nproc} -I%\"\n",
    "}"
   ]
  },
  {
   "cell_type": "markdown",
   "metadata": {},
   "source": [
    "## Benchmark"
   ]
  },
  {
   "cell_type": "code",
   "execution_count": null,
   "metadata": {
    "scrolled": true
   },
   "outputs": [],
   "source": [
    "multibench_results, debug_str = benchmark.multibench.multi_cmdbench({\n",
    "        \"index\": [build_command],\n",
    "        \"query\": [query_command]\n",
    "    },\n",
    "    reset_func = reset_func, iterations = 1, sampling_func = sampling_func, sample_sizes = sample_sizes, \n",
    "    benchmark_list_to_results=benchmark.benchmark_list_to_results, active_output_print = True\n",
    ")"
   ]
  },
  {
   "cell_type": "markdown",
   "metadata": {},
   "source": [
    "# Save and reload results"
   ]
  },
  {
   "cell_type": "code",
   "execution_count": null,
   "metadata": {},
   "outputs": [],
   "source": [
    "save_path = \"cobs-results.txt\"\n",
    "\n",
    "samples_per_sample_size = []\n",
    "for sample_size in sample_sizes:\n",
    "        samples_per_sample_size.append(input_samples[:sample_size])\n",
    "\n",
    "benchmark.multibench.save_multibench_results(multibench_results, samples_per_sample_size, save_path)\n",
    "multibench_results, samples_per_sample_size = benchmark.multibench.read_multibench_results(save_path)\n",
    "print(samples_per_sample_size)"
   ]
  },
  {
   "cell_type": "markdown",
   "metadata": {},
   "source": [
    "# Plot"
   ]
  },
  {
   "cell_type": "code",
   "execution_count": null,
   "metadata": {},
   "outputs": [],
   "source": [
    "%matplotlib inline\n",
    "import matplotlib.pyplot as plt\n",
    "plt.style.use('seaborn-whitegrid')\n",
    "import numpy as np\n",
    "from pylab import rcParams\n",
    "rcParams['figure.figsize'] = 15, 3"
   ]
  },
  {
   "cell_type": "code",
   "execution_count": null,
   "metadata": {},
   "outputs": [],
   "source": [
    "# Indexing Plots\n",
    "benchmark.multibench.plot_resources(multibench_results, sample_sizes, \"index\")"
   ]
  },
  {
   "cell_type": "code",
   "execution_count": null,
   "metadata": {},
   "outputs": [],
   "source": [
    "# Querying Plots\n",
    "benchmark.multibench.plot_resources(multibench_results, sample_sizes, \"query\")"
   ]
  }
 ],
 "metadata": {
  "kernelspec": {
   "display_name": "Python 3",
   "language": "python",
   "name": "python3"
  },
  "language_info": {
   "codemirror_mode": {
    "name": "ipython",
    "version": 3
   },
   "file_extension": ".py",
   "mimetype": "text/x-python",
   "name": "python",
   "nbconvert_exporter": "python",
   "pygments_lexer": "ipython3",
   "version": "3.8.5"
  }
 },
 "nbformat": 4,
 "nbformat_minor": 4
}
