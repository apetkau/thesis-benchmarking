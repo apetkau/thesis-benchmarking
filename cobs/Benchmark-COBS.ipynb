{
 "cells": [
  {
   "cell_type": "markdown",
   "metadata": {},
   "source": [
    "# Dependency code"
   ]
  },
  {
   "cell_type": "code",
   "execution_count": null,
   "metadata": {},
   "outputs": [],
   "source": [
    "%run ../lib/cmdbench/bioinformatics/multibench.py"
   ]
  },
  {
   "cell_type": "markdown",
   "metadata": {},
   "source": [
    "COBS will have to be built directly from source <https://github.com/bingmann/cobs>. Version used is commit `7c030bbb4804b142f4336a1808af1095d9398f4a`."
   ]
  },
  {
   "cell_type": "markdown",
   "metadata": {},
   "source": [
    "# Benchmarking"
   ]
  },
  {
   "cell_type": "code",
   "execution_count": null,
   "metadata": {},
   "outputs": [],
   "source": [
    "import sys\n",
    "import os\n",
    "import shutil\n",
    "import numpy as np\n",
    "import glob\n",
    "import cmdbench\n",
    "\n",
    "def clean_if_exists(path):\n",
    "    if os.path.exists(path):\n",
    "        if(os.path.isfile(path)):\n",
    "            os.remove(path)\n",
    "        else:\n",
    "            shutil.rmtree(path)\n",
    "            os.mkdir(path)\n",
    "            \n",
    "def reset_func():\n",
    "    clean_if_exists(\"cobs-data/samples/\")\n",
    "    clean_if_exists(\"cobs-data/example.cobs_compact\")\n",
    "    clean_if_exists(\"cobs-data/example.cobs_compact.tmp\")\n",
    "            \n",
    "def get_last_n_lines(string, n):\n",
    "    return \"\\n\".join(string.split(\"\\n\")[-n:])\n",
    "    \n",
    "def benchmark_list_to_results(benchmark_firsts_list):\n",
    "    return {\n",
    "        \"memory\": max(list(map(lambda result: result.memory.max, benchmark_firsts_list))),\n",
    "        \"disk_read\": max(list(map(lambda result: result.disk.read_chars, benchmark_firsts_list))),\n",
    "        \"disk_write\": max(list(map(lambda result: result.disk.write_chars, benchmark_firsts_list))),\n",
    "        \"runtime\": sum(list(map(lambda result: result.process.execution_time, benchmark_firsts_list)))\n",
    "    }\n",
    "\n",
    "def create_folder_if_doesnt_exist(path):\n",
    "    if not os.path.exists(path):\n",
    "        os.makedirs(path)\n",
    "\n",
    "# Summarize numpy array if it has more than 10 elements\n",
    "np.set_printoptions(threshold=10)\n",
    "\n",
    "input_dir = 'input'\n",
    "\n",
    "input_files_1 = [os.path.basename(f) for f in glob.glob(f'{input_dir}/*_1.fastq.gz')]\n",
    "input_samples = [f.replace('_1.fastq.gz','') for f in input_files_1]\n",
    "print(input_samples)"
   ]
  },
  {
   "cell_type": "code",
   "execution_count": null,
   "metadata": {},
   "outputs": [],
   "source": [
    "create_folder_if_doesnt_exist(\"cobs-data\")\n",
    "create_folder_if_doesnt_exist(\"cobs-data/samples\")"
   ]
  },
  {
   "cell_type": "code",
   "execution_count": null,
   "metadata": {
    "scrolled": true
   },
   "outputs": [],
   "source": [
    "nproc=4\n",
    "kmer=31\n",
    "hashes=3\n",
    "\n",
    "sample_sizes = [1,10,20,30,40,50,60,70,80,85]\n",
    "\n",
    "def sampling_func(sample_size):\n",
    "    # Copy files we want to be part of the sample\n",
    "    # from inputs to cobs-data/samples/ and return their path\n",
    "    samples = input_samples[:sample_size]\n",
    "    samples_out = []\n",
    "    for sample in samples:\n",
    "        infile1, infile2 = os.path.abspath(f\"{input_dir}/{sample}_1.fastq.gz\"), os.path.abspath(f\"{input_dir}/{sample}_2.fastq.gz\")\n",
    "        outfile1, outfile2 = f\"cobs-data/samples/{sample}_1.fastq.gz\", f\"cobs-data/samples/{sample}_2.fastq.gz\"\n",
    "        os.symlink(infile1, outfile1)\n",
    "        os.symlink(infile2, outfile2)\n",
    "    return [\"cobs-data/samples/\"]\n",
    "\n",
    "build_command = {\n",
    "    \"command\": f\"cobs compact-construct -k {kmer} --threads {nproc} --num-hashes {hashes} cobs-data/samples/ cobs-data/example.cobs_compact\",\n",
    "}\n",
    "\n",
    "query_repeat_count = 2\n",
    "query_sequence = \"GAAGAAGATGGTGTACGCGGTGCGCGCCGCTATCTCGACCACCTTAAAATGGAATATGCCTTCTGGATGGACG\"\n",
    "\n",
    "query_command = {\n",
    "    \"command\": \"cobs query -i cobs-data/example.cobs_compact %\",\n",
    "    \"parallel_argfiles\": [query_sequence] * query_repeat_count,\n",
    "    \"parallel_args\": f\"-j {nproc} -I%\"\n",
    "}\n",
    "\n",
    "multibench_results, debug_str = multi_cmdbench({\n",
    "\"index\": [build_command],\n",
    "\"query\": [query_command]\n",
    "}, reset_func = reset_func, iterations = 1, sampling_func = sampling_func, sample_sizes = sample_sizes, \n",
    "    benchmark_list_to_results=benchmark_list_to_results, active_output_print = True)\n"
   ]
  },
  {
   "cell_type": "markdown",
   "metadata": {},
   "source": [
    "# Save and reload results"
   ]
  },
  {
   "cell_type": "code",
   "execution_count": null,
   "metadata": {},
   "outputs": [],
   "source": [
    "save_path = \"cobs-results.txt\"\n",
    "\n",
    "samples_per_sample_size = []\n",
    "for sample_size in sample_sizes:\n",
    "        samples_per_sample_size.append(input_samples[:sample_size])\n",
    "\n",
    "save_multibench_results(multibench_results, samples_per_sample_size, save_path)"
   ]
  },
  {
   "cell_type": "code",
   "execution_count": null,
   "metadata": {},
   "outputs": [],
   "source": [
    "multibench_results, samples_per_sample_size = read_multibench_results(save_path)\n",
    "print(samples_per_sample_size)"
   ]
  },
  {
   "cell_type": "markdown",
   "metadata": {},
   "source": [
    "# Plot"
   ]
  },
  {
   "cell_type": "code",
   "execution_count": null,
   "metadata": {},
   "outputs": [],
   "source": [
    "%matplotlib inline\n",
    "import matplotlib.pyplot as plt\n",
    "plt.style.use('seaborn-whitegrid')\n",
    "import numpy as np\n",
    "from pylab import rcParams\n",
    "rcParams['figure.figsize'] = 15, 3"
   ]
  },
  {
   "cell_type": "code",
   "execution_count": null,
   "metadata": {},
   "outputs": [],
   "source": [
    "# Indexing Plots\n",
    "plot_resources(multibench_results, sample_sizes, \"index\")"
   ]
  },
  {
   "cell_type": "code",
   "execution_count": null,
   "metadata": {},
   "outputs": [],
   "source": [
    "# Querying Plots\n",
    "plot_resources(multibench_results, sample_sizes, \"query\")"
   ]
  },
  {
   "cell_type": "code",
   "execution_count": null,
   "metadata": {},
   "outputs": [],
   "source": []
  }
 ],
 "metadata": {
  "kernelspec": {
   "display_name": "Python 3",
   "language": "python",
   "name": "python3"
  },
  "language_info": {
   "codemirror_mode": {
    "name": "ipython",
    "version": 3
   },
   "file_extension": ".py",
   "mimetype": "text/x-python",
   "name": "python",
   "nbconvert_exporter": "python",
   "pygments_lexer": "ipython3",
   "version": "3.6.10"
  }
 },
 "nbformat": 4,
 "nbformat_minor": 4
}
