{
 "cells": [
  {
   "cell_type": "markdown",
   "metadata": {},
   "source": [
    "# Dependency code"
   ]
  },
  {
   "cell_type": "code",
   "execution_count": null,
   "metadata": {},
   "outputs": [],
   "source": [
    "import imp\n",
    "import os\n",
    "import sys\n",
    "import numpy as np\n",
    "import glob\n",
    "import cmdbench\n",
    "\n",
    "fp, pathname, description = imp.find_module('benchmark', ['../lib'])\n",
    "benchmark = imp.load_module('benchmark', fp, pathname, description)\n",
    "\n",
    "# Summarize numpy array if it has more than 10 elements\n",
    "np.set_printoptions(threshold=10)"
   ]
  },
  {
   "cell_type": "markdown",
   "metadata": {},
   "source": [
    "# Software versions"
   ]
  },
  {
   "cell_type": "code",
   "execution_count": null,
   "metadata": {},
   "outputs": [],
   "source": [
    "!mash --version"
   ]
  },
  {
   "cell_type": "markdown",
   "metadata": {},
   "source": [
    "# Benchmarking\n",
    "\n",
    "## Input data and constants"
   ]
  },
  {
   "cell_type": "code",
   "execution_count": null,
   "metadata": {},
   "outputs": [],
   "source": [
    "input_dir = '../data/input-files/reads'\n",
    "input_files_1 = [os.path.basename(f) for f in glob.glob(f'{input_dir}/*_1.fastq.gz')]\n",
    "input_samples = [f.replace('_1.fastq.gz','') for f in input_files_1]\n",
    "input_samples.sort()\n",
    "print(input_samples)\n",
    "\n",
    "nproc=32\n",
    "kmer=31\n",
    "sketch_size=100000\n",
    "\n",
    "mash_dir = 'mash-data'\n",
    "\n",
    "sample_sizes = [1,10,20,30,40,50,60,70,80]\n",
    "\n",
    "benchmark.create_folder_if_doesnt_exist(mash_dir)"
   ]
  },
  {
   "cell_type": "markdown",
   "metadata": {},
   "source": [
    "## Benchmark functions"
   ]
  },
  {
   "cell_type": "code",
   "execution_count": null,
   "metadata": {},
   "outputs": [],
   "source": [
    "def reset_func():\n",
    "    benchmark.clean_if_exists(mash_dir)\n",
    "    \n",
    "def sampling_func(sample_size):\n",
    "    samples = input_samples[:sample_size]\n",
    "    return samples\n",
    "    \n",
    "mash_command = {\n",
    "    \"command\": f\"mash sketch -r -p 1 -s {sketch_size} -k {kmer} -I % -o {mash_dir}/%.msh {input_dir}/%_1.fastq.gz {input_dir}/%_2.fastq.gz\",\n",
    "    \"parallel_args\": f\"-j {nproc} -I%\",\n",
    "}\n",
    "\n",
    "combine_sketchs_command = {\n",
    "    \"command\": lambda inputs: f\"mash paste {mash_dir}/sketches \" + ' '.join([f\"{mash_dir}/{x}.msh\" for x in inputs]),\n",
    "}\n",
    "\n",
    "dist_calculation_times = 1\n",
    "dist_calculating_genome = \"2014C-3600_1.fastq.gz\"\n",
    "\n",
    "query_command = {\n",
    "    \"command\": f\"mash dist -p {nproc} {mash_dir}/sketches.msh {input_dir}/%\",\n",
    "    \"parallel_args\": \"-j 1 -I%\",\n",
    "    \"parallel_argfiles\": [dist_calculating_genome] * dist_calculation_times\n",
    "}"
   ]
  },
  {
   "cell_type": "markdown",
   "metadata": {},
   "source": [
    "## Benchmark"
   ]
  },
  {
   "cell_type": "code",
   "execution_count": null,
   "metadata": {
    "scrolled": true
   },
   "outputs": [],
   "source": [
    "multibench_results, debug_str = benchmark.multibench.multi_cmdbench({\n",
    "        \"index\": [mash_command, combine_sketchs_command],\n",
    "        \"query\": [query_command]\n",
    "    },\n",
    "    reset_func = reset_func, iterations = 1, sampling_func = sampling_func, sample_sizes = sample_sizes, \n",
    "    benchmark_list_to_results=benchmark.benchmark_list_to_results, active_output_print = True\n",
    ")"
   ]
  },
  {
   "cell_type": "markdown",
   "metadata": {},
   "source": [
    "# Save and reload results"
   ]
  },
  {
   "cell_type": "code",
   "execution_count": null,
   "metadata": {},
   "outputs": [],
   "source": [
    "save_path = \"mash-results.txt\"\n",
    "\n",
    "samples_per_sample_size = []\n",
    "for sample_size in sample_sizes:\n",
    "        samples_per_sample_size.append(input_samples[:sample_size])\n",
    "\n",
    "benchmark.multibench.save_multibench_results(multibench_results, samples_per_sample_size, save_path)\n",
    "multibench_results, samples_per_sample_size = benchmark.multibench.read_multibench_results(save_path)"
   ]
  },
  {
   "cell_type": "markdown",
   "metadata": {},
   "source": [
    "# Plot"
   ]
  },
  {
   "cell_type": "code",
   "execution_count": null,
   "metadata": {},
   "outputs": [],
   "source": [
    "%matplotlib inline\n",
    "import matplotlib.pyplot as plt\n",
    "plt.style.use('seaborn-whitegrid')\n",
    "import numpy as np\n",
    "from pylab import rcParams\n",
    "rcParams['figure.figsize'] = 15, 3"
   ]
  },
  {
   "cell_type": "code",
   "execution_count": null,
   "metadata": {},
   "outputs": [],
   "source": [
    "# Indexing Plots\n",
    "benchmark.multibench.plot_resources(multibench_results, sample_sizes, \"index\")"
   ]
  },
  {
   "cell_type": "code",
   "execution_count": null,
   "metadata": {},
   "outputs": [],
   "source": [
    "# Querying Plots\n",
    "benchmark.multibench.plot_resources(multibench_results, sample_sizes, \"query\")"
   ]
  }
 ],
 "metadata": {
  "kernelspec": {
   "display_name": "Python 3",
   "language": "python",
   "name": "python3"
  },
  "language_info": {
   "codemirror_mode": {
    "name": "ipython",
    "version": 3
   },
   "file_extension": ".py",
   "mimetype": "text/x-python",
   "name": "python",
   "nbconvert_exporter": "python",
   "pygments_lexer": "ipython3",
   "version": "3.8.5"
  }
 },
 "nbformat": 4,
 "nbformat_minor": 4
}
