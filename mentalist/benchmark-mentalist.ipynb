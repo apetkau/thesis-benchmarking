{
 "cells": [
  {
   "cell_type": "markdown",
   "metadata": {},
   "source": [
    "# Dependency code"
   ]
  },
  {
   "cell_type": "code",
   "execution_count": null,
   "metadata": {},
   "outputs": [],
   "source": [
    "import imp\n",
    "import os\n",
    "import sys\n",
    "import numpy as np\n",
    "import glob\n",
    "import cmdbench\n",
    "\n",
    "fp, pathname, description = imp.find_module('benchmark', ['../lib'])\n",
    "benchmark = imp.load_module('benchmark', fp, pathname, description)\n",
    "\n",
    "# Summarize numpy array if it has more than 10 elements\n",
    "np.set_printoptions(threshold=10)"
   ]
  },
  {
   "cell_type": "markdown",
   "metadata": {},
   "source": [
    "# Software versions"
   ]
  },
  {
   "cell_type": "code",
   "execution_count": null,
   "metadata": {},
   "outputs": [],
   "source": [
    "!conda run --name mentalist mentalist -v"
   ]
  },
  {
   "cell_type": "markdown",
   "metadata": {},
   "source": [
    "# Benchmark\n",
    "\n",
    "## Input data and constants"
   ]
  },
  {
   "cell_type": "code",
   "execution_count": null,
   "metadata": {},
   "outputs": [],
   "source": [
    "input_dir = '../data/input-files/reads'\n",
    "output_dir = 'output'\n",
    "db_dir = 'db/campy'\n",
    "db = f'{db_dir}/campy.db'\n",
    "\n",
    "nproc = 32\n",
    "\n",
    "input_samples = [os.path.basename(f) for f in glob.glob(f'{input_dir}/*_1.fastq.gz')]\n",
    "input_samples = [f.replace('_1.fastq.gz','') for f in input_samples]\n",
    "\n",
    "benchmark.create_folder_if_doesnt_exist(db_dir)\n",
    "benchmark.create_folder_if_doesnt_exist(output_dir)\n",
    "benchmark.clean_if_exists(db_dir)\n",
    "benchmark.clean_if_exists(output_dir)\n",
    "\n",
    "sample_sizes = [1,10,20,30,40,50,60,70,80]\n",
    "#sample_sizes = [3,10,15]\n",
    "\n",
    "print(input_samples)"
   ]
  },
  {
   "cell_type": "markdown",
   "metadata": {},
   "source": [
    "## Build MentaLiST database"
   ]
  },
  {
   "cell_type": "code",
   "execution_count": null,
   "metadata": {
    "scrolled": true
   },
   "outputs": [],
   "source": [
    "!conda run --name mentalist mentalist download_pubmlst -k 31 -s 30 -o {db_dir}/fasta --db {db}"
   ]
  },
  {
   "cell_type": "markdown",
   "metadata": {},
   "source": [
    "## Benchmark functions"
   ]
  },
  {
   "cell_type": "code",
   "execution_count": null,
   "metadata": {},
   "outputs": [],
   "source": [
    "def reset_func():\n",
    "    pass\n",
    "\n",
    "def sampling_func(sample_size):\n",
    "    samples = input_samples[:sample_size]\n",
    "    return samples\n",
    "\n",
    "assemble_command = {\n",
    "    \"command\": f\"conda run --name mentalist mentalist call -o {output_dir}/%.txt --db {db} -1 {input_dir}/%_1.fastq.gz -2 {input_dir}/%_2.fastq.gz\",\n",
    "    \"parallel_args\": f\"-j {nproc} -I%\"\n",
    "}"
   ]
  },
  {
   "cell_type": "markdown",
   "metadata": {},
   "source": [
    "## Benchmark"
   ]
  },
  {
   "cell_type": "code",
   "execution_count": null,
   "metadata": {
    "scrolled": true
   },
   "outputs": [],
   "source": [
    "multibench_results, debug_str = benchmark.multibench.multi_cmdbench({\n",
    "        \"call\": [assemble_command]\n",
    "    },\n",
    "    reset_func = reset_func, iterations = 1, sampling_func = sampling_func, sample_sizes = sample_sizes, \n",
    "    benchmark_list_to_results = benchmark.benchmark_list_to_results, active_output_print = True\n",
    ")"
   ]
  },
  {
   "cell_type": "markdown",
   "metadata": {},
   "source": [
    "## Save and reload results"
   ]
  },
  {
   "cell_type": "code",
   "execution_count": null,
   "metadata": {},
   "outputs": [],
   "source": [
    "save_path = \"mentalist-results.txt\"\n",
    "\n",
    "samples_per_sample_size = []\n",
    "for sample_size in sample_sizes:\n",
    "        samples_per_sample_size.append(input_samples[:sample_size])\n",
    "\n",
    "benchmark.multibench.save_multibench_results(multibench_results, samples_per_sample_size, save_path)\n",
    "multibench_results, samples_per_sample_size = benchmark.multibench.read_multibench_results(save_path)\n",
    "print(samples_per_sample_size)"
   ]
  },
  {
   "cell_type": "markdown",
   "metadata": {},
   "source": [
    "# Plot"
   ]
  },
  {
   "cell_type": "code",
   "execution_count": null,
   "metadata": {},
   "outputs": [],
   "source": [
    "%matplotlib inline\n",
    "import matplotlib.pyplot as plt\n",
    "plt.style.use('seaborn-whitegrid')\n",
    "import numpy as np\n",
    "from pylab import rcParams\n",
    "rcParams['figure.figsize'] = 15, 3"
   ]
  },
  {
   "cell_type": "code",
   "execution_count": null,
   "metadata": {},
   "outputs": [],
   "source": [
    "# Indexing Plots\n",
    "benchmark.multibench.plot_resources(multibench_results, sample_sizes, \"call\")"
   ]
  },
  {
   "cell_type": "code",
   "execution_count": null,
   "metadata": {},
   "outputs": [],
   "source": []
  }
 ],
 "metadata": {
  "kernelspec": {
   "display_name": "Python 3",
   "language": "python",
   "name": "python3"
  },
  "language_info": {
   "codemirror_mode": {
    "name": "ipython",
    "version": 3
   },
   "file_extension": ".py",
   "mimetype": "text/x-python",
   "name": "python",
   "nbconvert_exporter": "python",
   "pygments_lexer": "ipython3",
   "version": "3.8.5"
  }
 },
 "nbformat": 4,
 "nbformat_minor": 4
}
